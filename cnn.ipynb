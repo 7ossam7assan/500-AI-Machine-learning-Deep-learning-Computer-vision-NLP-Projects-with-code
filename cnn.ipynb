{
  "nbformat": 4,
  "nbformat_minor": 0,
  "metadata": {
    "colab": {
      "name": "cnn.ipynb",
      "provenance": [],
      "authorship_tag": "ABX9TyOTlC2F1hTTUWBmEhGJW6N+",
      "include_colab_link": true
    },
    "kernelspec": {
      "name": "python3",
      "display_name": "Python 3"
    },
    "language_info": {
      "name": "python"
    },
    "accelerator": "GPU"
  },
  "cells": [
    {
      "cell_type": "markdown",
      "metadata": {
        "id": "view-in-github",
        "colab_type": "text"
      },
      "source": [
        "<a href=\"https://colab.research.google.com/github/7ossam7assan/500-AI-Machine-learning-Deep-learning-Computer-vision-NLP-Projects-with-code/blob/main/cnn.ipynb\" target=\"_parent\"><img src=\"https://colab.research.google.com/assets/colab-badge.svg\" alt=\"Open In Colab\"/></a>"
      ]
    },
    {
      "cell_type": "code",
      "metadata": {
        "id": "RcEZCoYT_vj3"
      },
      "source": [
        "import keras\n",
        "from keras.datasets import mnist\n",
        "from keras.models import Sequential\n",
        "from keras.layers import Dense, Flatten, Dropout\n",
        "from keras.layers import Conv2D, MaxPool2D\n",
        "from keras import backend as k\n"
      ],
      "execution_count": 2,
      "outputs": []
    },
    {
      "cell_type": "code",
      "metadata": {
        "id": "QVGhJX0NF1y8"
      },
      "source": [
        "batch_size = 128\n",
        "num_of_classes = 10\n",
        "epochs = 12\n",
        "img_rows, img_columns = 28, 28\n",
        "(x_train, y_train), (x_test, y_test) = mnist.load_data()\n"
      ],
      "execution_count": 3,
      "outputs": []
    },
    {
      "cell_type": "markdown",
      "metadata": {
        "id": "1vKJHkTXHy8G"
      },
      "source": [
        "if gray scale apply this data processing else make sure it's the same shape"
      ]
    },
    {
      "cell_type": "code",
      "metadata": {
        "id": "m3RVKAgmGr6M"
      },
      "source": [
        "if k.image_data_format() == \"channels_first\":\n",
        "  x_train = x_train.reshape(x_train.shape[0],img_rows,img_columns,1)\n",
        "  x_test = x_test.reshape(x_test.shape[0],img_rows,img_columns,1)\n",
        "  input_shape = (img_rows,img_columns,1)\n",
        "else:\n",
        "  x_train = x_train.reshape(x_train.shape[0],img_rows,img_columns,1)\n",
        "  x_test = x_test.reshape(x_test.shape[0],img_rows,img_columns,1)\n",
        "  input_shape = (img_rows,img_columns,1)"
      ],
      "execution_count": 8,
      "outputs": []
    },
    {
      "cell_type": "markdown",
      "metadata": {
        "id": "JtLgFhBVKFIP"
      },
      "source": [
        "normalize input images "
      ]
    },
    {
      "cell_type": "code",
      "metadata": {
        "id": "wBiFaNFsIj-_"
      },
      "source": [
        "x_train = x_train/255.0\n",
        "x_test = x_test/255.0"
      ],
      "execution_count": 9,
      "outputs": []
    },
    {
      "cell_type": "code",
      "metadata": {
        "id": "88FyA0o3KM0k"
      },
      "source": [
        "import tensorflow as tf\n",
        "y_train = tf.keras.utils.to_categorical(y_train,10)\n",
        "y_test = tf.keras.utils.to_categorical(y_test,num_classes = 10)"
      ],
      "execution_count": 10,
      "outputs": []
    },
    {
      "cell_type": "code",
      "metadata": {
        "colab": {
          "base_uri": "https://localhost:8080/"
        },
        "id": "BWTxk4djQPP3",
        "outputId": "bd0fae25-f49b-406a-dee4-e16e24a4acac"
      },
      "source": [
        "model = Sequential()\n",
        "model.add(Conv2D(32,kernel_size=(3,3),activation=\"relu\",input_shape=input_shape))\n",
        "model.add(Conv2D(64,kernel_size=(3,3),activation=\"relu\",input_shape=input_shape))\n",
        "model.add(MaxPool2D(pool_size=(2,2)))\n",
        "model.add(Flatten())\n",
        "model.add(Dense(128,activation=\"relu\"))\n",
        "model.add(Dense(num_of_classes,activation=\"softmax\"))\n",
        "model.summary()"
      ],
      "execution_count": 11,
      "outputs": [
        {
          "output_type": "stream",
          "name": "stdout",
          "text": [
            "Model: \"sequential_1\"\n",
            "_________________________________________________________________\n",
            "Layer (type)                 Output Shape              Param #   \n",
            "=================================================================\n",
            "conv2d_1 (Conv2D)            (None, 26, 26, 32)        320       \n",
            "_________________________________________________________________\n",
            "conv2d_2 (Conv2D)            (None, 24, 24, 64)        18496     \n",
            "_________________________________________________________________\n",
            "max_pooling2d (MaxPooling2D) (None, 12, 12, 64)        0         \n",
            "_________________________________________________________________\n",
            "flatten (Flatten)            (None, 9216)              0         \n",
            "_________________________________________________________________\n",
            "dense (Dense)                (None, 128)               1179776   \n",
            "_________________________________________________________________\n",
            "dense_1 (Dense)              (None, 10)                1290      \n",
            "=================================================================\n",
            "Total params: 1,199,882\n",
            "Trainable params: 1,199,882\n",
            "Non-trainable params: 0\n",
            "_________________________________________________________________\n"
          ]
        }
      ]
    }
  ]
}